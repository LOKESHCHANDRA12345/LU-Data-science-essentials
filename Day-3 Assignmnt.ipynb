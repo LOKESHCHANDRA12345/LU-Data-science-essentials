{
 "cells": [
  {
   "cell_type": "code",
   "execution_count": 1,
   "metadata": {},
   "outputs": [],
   "source": [
    "import numpy as np\n"
   ]
  },
  {
   "cell_type": "markdown",
   "metadata": {},
   "source": [
    "# Question 1  "
   ]
  },
  {
   "cell_type": "code",
   "execution_count": 2,
   "metadata": {},
   "outputs": [
    {
     "name": "stdout",
     "output_type": "stream",
     "text": [
      "[ 2  5  8 11 14 17 20 23 26 29 32 35 38 41 44 47]\n"
     ]
    }
   ],
   "source": [
    "# Create a numpy array starting from 2 till 50 with a stepsize of 3.\n",
    "# a=np.array([i for i in range(2,50,3)])\n",
    "a=np.arange(2,50,3)\n",
    "print(a)"
   ]
  },
  {
   "cell_type": "markdown",
   "metadata": {},
   "source": [
    "# Question 2 "
   ]
  },
  {
   "cell_type": "code",
   "execution_count": 3,
   "metadata": {},
   "outputs": [
    {
     "name": "stdout",
     "output_type": "stream",
     "text": [
      "21\n",
      "333\n",
      "32\n",
      "56\n",
      "16\n",
      "04\n",
      "84\n",
      "84\n",
      "75\n",
      "59\n",
      "[  4  16  21  32  56  59  75  84  84 333]\n"
     ]
    }
   ],
   "source": [
    "# Accept two lists of 5 elements each from the user.\n",
    "# Convert them to numpy arrays. Concatenate these arrays and print it. Also sort these arrays and print it.\n",
    "l1=[]\n",
    "l2=[]\n",
    "for _ in range(5):\n",
    "    l1.append(int(input())) #input\n",
    "for _ in range(5):\n",
    "    l2.append(int(input())) #input\n",
    "l1=np.array(l1)\n",
    "l2=np.array(l2)\n",
    "l=np.append(l1,l2)\n",
    "l.sort()\n",
    "print(l)"
   ]
  },
  {
   "cell_type": "markdown",
   "metadata": {},
   "source": [
    "# Question 3"
   ]
  },
  {
   "cell_type": "code",
   "execution_count": 4,
   "metadata": {},
   "outputs": [
    {
     "name": "stdout",
     "output_type": "stream",
     "text": [
      "(3, 3)\n",
      "9\n"
     ]
    }
   ],
   "source": [
    "\n",
    "# Write a code snippet to find the dimensions of a ndarray and its size.\n",
    "ndarr=np.array([[1,2,3],[3,4,5],[4,5,6]])\n",
    "print(ndarr.shape)\n",
    "print(ndarr.size)"
   ]
  },
  {
   "cell_type": "markdown",
   "metadata": {},
   "source": [
    "# QUESTION 4 "
   ]
  },
  {
   "cell_type": "code",
   "execution_count": 5,
   "metadata": {},
   "outputs": [
    {
     "name": "stdout",
     "output_type": "stream",
     "text": [
      "[ 1  2  3  4  5  6  7  8  9 10 11 12]\n",
      "[[ 1  2  3]\n",
      " [ 4  5  6]\n",
      " [ 7  8  9]\n",
      " [10 11 12]]\n"
     ]
    }
   ],
   "source": [
    "\n",
    "# How to convert a 1D array into a 2D array? Demonstrate with the help of a code snippet\n",
    "b=np.array([1,2,3,4,5,6,7,8,9,10,11,12])\n",
    "print(b)\n",
    "b=b.reshape(4,3)\n",
    "print(b)"
   ]
  },
  {
   "cell_type": "markdown",
   "metadata": {},
   "source": [
    "# QUESTION 5"
   ]
  },
  {
   "cell_type": "code",
   "execution_count": 6,
   "metadata": {},
   "outputs": [
    {
     "name": "stdout",
     "output_type": "stream",
     "text": [
      "Stacking vertically\n",
      "[[ 0  1  2  3  0  1  2  3]\n",
      " [ 4  5  6  7  4  5  6  7]\n",
      " [ 8  9 10 11  8  9 10 11]\n",
      " [12 13 14 15 12 13 14 15]]\n",
      "------------------------\n",
      "Stacking horizontally\n",
      "[[ 0  1  2  3]\n",
      " [ 4  5  6  7]\n",
      " [ 8  9 10 11]\n",
      " [12 13 14 15]\n",
      " [ 0  1  2  3]\n",
      " [ 4  5  6  7]\n",
      " [ 8  9 10 11]\n",
      " [12 13 14 15]]\n"
     ]
    }
   ],
   "source": [
    "# Consider two square numpy arrays. Stack them vertically and horizontally.\n",
    "# Hint: Use vstack(), hstack()\n",
    "s1=np.arange(16).reshape(4,4)\n",
    "s2=np.arange(16).reshape(4,4)\n",
    "print(\"Stacking vertically\")\n",
    "print(np.hstack((s1,s2)))\n",
    "print(\"------------------------\")\n",
    "print(\"Stacking horizontally\")\n",
    "print(np.vstack((s1,s2)))"
   ]
  },
  {
   "cell_type": "markdown",
   "metadata": {},
   "source": [
    "# Question 6 "
   ]
  },
  {
   "cell_type": "code",
   "execution_count": 7,
   "metadata": {},
   "outputs": [
    {
     "name": "stdout",
     "output_type": "stream",
     "text": [
      "[[1 3]\n",
      " [2 1]\n",
      " [3 1]\n",
      " [4 2]]\n"
     ]
    }
   ],
   "source": [
    "# How to get unique items and counts of unique items?\n",
    "number_list = np.array([1, 1, 2, 3, 4, 4, 1])\n",
    "(unique, counts) = np.unique(number_list, return_counts=True)\n",
    "frequencies = np.asarray((unique, counts)).T\n",
    "print(frequencies)"
   ]
  },
  {
   "cell_type": "code",
   "execution_count": null,
   "metadata": {},
   "outputs": [],
   "source": []
  }
 ],
 "metadata": {
  "kernelspec": {
   "display_name": "Python 3",
   "language": "python",
   "name": "python3"
  },
  "language_info": {
   "codemirror_mode": {
    "name": "ipython",
    "version": 3
   },
   "file_extension": ".py",
   "mimetype": "text/x-python",
   "name": "python",
   "nbconvert_exporter": "python",
   "pygments_lexer": "ipython3",
   "version": "3.7.4"
  }
 },
 "nbformat": 4,
 "nbformat_minor": 2
}
